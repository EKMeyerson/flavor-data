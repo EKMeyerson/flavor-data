{
 "cells": [
  {
   "cell_type": "code",
   "execution_count": null,
   "metadata": {},
   "outputs": [],
   "source": [
    "#\n",
    "# Notebook for computing volatile metrics\n",
    "#"
   ]
  },
  {
   "cell_type": "code",
   "execution_count": null,
   "metadata": {},
   "outputs": [],
   "source": [
    "import numpy as np\n",
    "import pandas as pd"
   ]
  },
  {
   "cell_type": "code",
   "execution_count": null,
   "metadata": {},
   "outputs": [],
   "source": [
    "# Helper function for loading data files\n",
    "def read_rep_csv(rep_id):\n",
    "    data_fn = '../{}.csv'.format(rep_id)\n",
    "    try:\n",
    "        return pd.read_csv(data_fn)\n",
    "    except FileNotFoundError:\n",
    "        pass\n",
    "    try:\n",
    "        space_data_fn = data_fn[:-4] + ' ' + data_fn[-4:]\n",
    "        return pd.read_csv(space_data_fn)\n",
    "    except FileNotFoundError:\n",
    "        pass\n",
    "    dot_data_fn = data_fn[:-6] + '.' + data_fn[-5:]\n",
    "    return pd.read_csv(dot_data_fn)"
   ]
  },
  {
   "cell_type": "code",
   "execution_count": null,
   "metadata": {},
   "outputs": [],
   "source": [
    "# Helper function for standardizing compound names\n",
    "def standardize_compounds(compounds):\n",
    "    std_comp = compounds.str.lower()\n",
    "    \n",
    "    replace_map = {'β': 'beta', 'γ': 'gamma', 't-':'tau-', 'α': 'alpha', 'δ': 'delta' }\n",
    "    \n",
    "    for symbol in replace_map:\n",
    "        std_comp = std_comp.str.replace(symbol, replace_map[symbol])\n",
    "    \n",
    "    return std_comp  "
   ]
  },
  {
   "cell_type": "code",
   "execution_count": null,
   "metadata": {},
   "outputs": [],
   "source": [
    "# Load list of data files for all experiments\n",
    "files_df = pd.read_csv('../Master List of Data Files.csv')\n",
    "\n",
    "# Add round column and unique ID for each treatment for easier data manipulation\n",
    "files_df['Round'] = files_df['Experiment ID'].str.slice(start=-1)\n",
    "files_df['Treatment ID'] = files_df['Round'] + '_' + \\\n",
    "                           files_df['Level 1'] + '_' + \\\n",
    "                           files_df['Level 2']"
   ]
  },
  {
   "cell_type": "code",
   "execution_count": null,
   "metadata": {},
   "outputs": [],
   "source": [
    "# Load data for each rep, keeping track of common set of compounds\n",
    "common_compound_set = None\n",
    "rep_dfs = []\n",
    "for index, row in files_df.iterrows():\n",
    "    rep_id = row['Profile ID']\n",
    "    rep_df = read_rep_csv(rep_id)\n",
    "    rep_df['COMPOUND'] = standardize_compounds(rep_df['COMPOUND'])\n",
    "    rep_df['Concentration'] = rep_df['ABUNDANCE'] / row['Sample Weight (g)']\n",
    "    rep_df['Round'] = row['Round']\n",
    "    rep_df['Treatment ID'] = row['Treatment ID']\n",
    "    rep_dfs.append(rep_df)\n",
    "    \n",
    "    rep_compound_set = set(rep_df['COMPOUND'].unique())\n",
    "    if common_compound_set is None:\n",
    "        common_compound_set = rep_compound_set\n",
    "    else:\n",
    "        common_compound_set = common_compound_set & rep_compound_set"
   ]
  },
  {
   "cell_type": "code",
   "execution_count": null,
   "metadata": {},
   "outputs": [],
   "source": [
    "# Concatenate into single dataframe\n",
    "df = pd.concat(rep_dfs)\n",
    "df = df.drop(columns='Unnamed: 0')\n",
    "df = df.reset_index(drop=True)"
   ]
  },
  {
   "cell_type": "code",
   "execution_count": null,
   "metadata": {},
   "outputs": [],
   "source": [
    "# Only consider chemicals present across all rounds\n",
    "df = df[df['COMPOUND'].isin(common_compound_set)]"
   ]
  },
  {
   "cell_type": "code",
   "execution_count": null,
   "metadata": {},
   "outputs": [],
   "source": [
    "# Replace NaNs\n",
    "for index, row in df.iterrows():\n",
    "    if np.isnan(row['Concentration']):\n",
    "        treatment_chemical_df = df[(df['Treatment ID'] == row['Treatment ID']) \\\n",
    "                                   & (df['COMPOUND'] == row['COMPOUND'])]\n",
    "        concentration = treatment_chemical_df.mean()['Concentration']\n",
    "        df.at[index, 'Concentration'] = concentration\n",
    "df['Concentration'] = df['Concentration'].fillna(0)"
   ]
  },
  {
   "cell_type": "code",
   "execution_count": null,
   "metadata": {},
   "outputs": [],
   "source": [
    "# Compute overall means and stds for each compound\n",
    "overall_means = df.groupby('COMPOUND')['Concentration'].mean()\n",
    "overal_stds = df.groupby('COMPOUND')['Concentration'].std()"
   ]
  },
  {
   "cell_type": "code",
   "execution_count": null,
   "metadata": {},
   "outputs": [],
   "source": [
    "# Compute mean, std, and control mean for each compound for each round\n",
    "round_means = {}\n",
    "round_stds = {}\n",
    "round_control_means = {}\n",
    "for r in ['1', '2', '3']:\n",
    "    round_df = df[df['Round'] == r]\n",
    "    round_means[r] = round_df.groupby('COMPOUND')['Concentration'].mean()\n",
    "    round_stds[r] = round_df.groupby('COMPOUND')['Concentration'].std()\n",
    "    round_control_df = round_df[round_df['Treatment ID'].str.contains('control')]\n",
    "    round_control_means[r] = round_control_df.groupby('COMPOUND')['Concentration'].mean()"
   ]
  },
  {
   "cell_type": "code",
   "execution_count": null,
   "metadata": {},
   "outputs": [],
   "source": [
    "# Compute R-Score for each rep\n",
    "reps = df['PROFILE.ID'].unique()\n",
    "treatment_rscores = {}\n",
    "rep_rscores = []\n",
    "for rep in reps:\n",
    "    rep_df = df[df['PROFILE.ID'] == rep]\n",
    "    treatment_id = rep_df['Treatment ID'].values[0]\n",
    "    rep_round = rep_df['Round'].values[0]\n",
    "    compound_ratios = []\n",
    "    for compound in common_compound_set:\n",
    "        compound_ratio = float(rep_df[rep_df['COMPOUND'] == compound]['Concentration']) \\\n",
    "                            / round_control_means[rep_round][compound]\n",
    "        compound_ratios.append(compound_ratio)\n",
    "    rep_rscore = np.mean(compound_ratios)\n",
    "    if treatment_id not in treatment_rscores:\n",
    "        treatment_rscores[treatment_id] = []\n",
    "    treatment_rscores[treatment_id].append(rep_rscore)"
   ]
  },
  {
   "cell_type": "code",
   "execution_count": null,
   "metadata": {},
   "outputs": [],
   "source": [
    "# Compute Chemscore for each rep\n",
    "reps = df['PROFILE.ID'].unique()\n",
    "treatment_chemscores = {}\n",
    "rep_chemscores = []\n",
    "for rep in reps:\n",
    "    rep_df = df[df['PROFILE.ID'] == rep]\n",
    "    treatment_id = rep_df['Treatment ID'].values[0]\n",
    "    rep_round = rep_df['Round'].values[0]\n",
    "    compound_zs = []\n",
    "    for compound in common_compound_set:\n",
    "        z = (float(rep_df[rep_df['COMPOUND'] == compound]['Concentration']) \\\n",
    "             - round_means[rep_round][compound]) / round_stds[rep_round][compound]\n",
    "        compound_zs.append(z)\n",
    "    rep_chemscore = np.mean(compound_zs)\n",
    "    if treatment_id not in treatment_chemscores:\n",
    "        treatment_chemscores[treatment_id] = []\n",
    "    treatment_chemscores[treatment_id].append(rep_chemscore)"
   ]
  },
  {
   "cell_type": "code",
   "execution_count": null,
   "metadata": {},
   "outputs": [],
   "source": [
    "# Compute Z-Score for each rep\n",
    "reps = df['PROFILE.ID'].unique()\n",
    "treatment_zscores = {}\n",
    "rep_zscores = []\n",
    "for rep in reps:\n",
    "    rep_df = df[df['PROFILE.ID'] == rep]\n",
    "    treatment_id = rep_df['Treatment ID'].values[0]\n",
    "    rep_round = rep_df['Round'].values[0]\n",
    "    compound_zs = []\n",
    "    for compound in common_compound_set:\n",
    "        z = (float(rep_df[rep_df['COMPOUND'] == compound]['Concentration']) \\\n",
    "             - overall_means[compound]) / overal_stds[compound]\n",
    "        compound_zs.append(z)\n",
    "    rep_zscore = np.mean(compound_zs)\n",
    "    if treatment_id not in treatment_zscores:\n",
    "        treatment_zscores[treatment_id] = []\n",
    "    treatment_zscores[treatment_id].append(rep_zscore)"
   ]
  },
  {
   "cell_type": "code",
   "execution_count": null,
   "metadata": {},
   "outputs": [],
   "source": [
    "# Order treatments as in paper\n",
    "treatment_ids = [\n",
    "    '1_Phillips_long',\n",
    "    '1_fluorescent_long',\n",
    "    '1_ILLUMITEX_long',\n",
    "    '1_fluorescent_control',\n",
    "    '1_ILLUMITEX_control',\n",
    "    '1_Phillips_control',\n",
    "    '2_ILLUMITEX_long',\n",
    "    '2_Phillips_long',\n",
    "    '2_fluorescent_long',\n",
    "    '2_Phillips_short',\n",
    "    '2_fluorescent_short',\n",
    "    '2_fluorescent_control',\n",
    "    '2_ILLUMITEX_control',\n",
    "    '2_Phillips_control',\n",
    "    '3_ILLUMITEX_17 hours/day',\n",
    "    '3_Phillips_4 hours/day',\n",
    "    '3_fluorescent_24 hours/day',\n",
    "    '3_Phillips_14 hours/day',\n",
    "    '3_fluorescent_8 hours/day',\n",
    "    '3_ILLUMITEX_10 hours/day',\n",
    "    '3_fluorescent_control',\n",
    "    '3_ILLUMITEX_control'\n",
    "]\n",
    "\n",
    "# Join metrics\n",
    "metrics_df = pd.DataFrame({\n",
    "    'Treatment': treatment_ids,\n",
    "    'R-Score': [np.mean(treatment_rscores[tid]) for tid in treatment_ids],\n",
    "    'Chemscore': [np.mean(treatment_chemscores[tid]) for tid in treatment_ids],\n",
    "    'Z-Score': [np.mean(treatment_zscores[tid]) for tid in treatment_ids],\n",
    "})\n",
    "metrics_df"
   ]
  }
 ],
 "metadata": {
  "kernelspec": {
   "display_name": "Python 3",
   "language": "python",
   "name": "python3"
  },
  "language_info": {
   "codemirror_mode": {
    "name": "ipython",
    "version": 3
   },
   "file_extension": ".py",
   "mimetype": "text/x-python",
   "name": "python",
   "nbconvert_exporter": "python",
   "pygments_lexer": "ipython3",
   "version": "3.7.6"
  }
 },
 "nbformat": 4,
 "nbformat_minor": 4
}
